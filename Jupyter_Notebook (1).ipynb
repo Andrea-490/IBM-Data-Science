{
 "cells": [
  {
   "cell_type": "markdown",
   "metadata": {},
   "source": [
    "<center>\n",
    "    <img src=\"https://s3-api.us-geo.objectstorage.softlayer.net/cf-courses-data/CognitiveClass/Logos/organization_logo/organization_logo.png\" width=\"300\" alt=\"cognitiveclass.ai logo\"  />\n",
    "</center>\n"
   ]
  },
  {
   "cell_type": "markdown",
   "metadata": {},
   "source": [
    "#### Add your code below following the instructions given in the course\n"
   ]
  },
  {
   "cell_type": "markdown",
   "metadata": {},
   "source": [
    "# My Jupyter Notebook on IBM Watson Studio"
   ]
  },
  {
   "cell_type": "markdown",
   "metadata": {},
   "source": [
    "**Andrea Alcalde** <br>\n",
    "R&D Engineer"
   ]
  },
  {
   "cell_type": "markdown",
   "metadata": {},
   "source": [
    "*I'm interested in data science because I'm a curious person by nature, and it brings me joy to find answers and solutions to problems studying the root causes*"
   ]
  },
  {
   "cell_type": "markdown",
   "metadata": {},
   "source": [
    "### This code is meant to greet you all and pay tribute to a programming classic"
   ]
  },
  {
   "cell_type": "code",
   "execution_count": 1,
   "metadata": {},
   "outputs": [
    {
     "name": "stdout",
     "output_type": "stream",
     "text": [
      "Hello world!\n"
     ]
    }
   ],
   "source": [
    "print('Hello world!')"
   ]
  },
  {
   "cell_type": "markdown",
   "metadata": {},
   "source": [
    "Important components of a deliverable\n",
    "\n",
    "---\n",
    "\n",
    "1. Cover page\n",
    "\n",
    "2. Table of contents\n",
    "\n",
    "3. Executive Summary\n",
    "\n",
    "4. Introductory section\n",
    "\n",
    "5. Methodology section\n",
    "\n",
    "6. Results section\n",
    "\n",
    "7. Discussion section\n",
    "\n",
    "8. Conclusion section\n",
    "\n",
    "9. References\n",
    "\n",
    "10. Acknowledgment\n",
    "\n",
    "\n",
    "And remember: \n",
    "\n",
    "---\n",
    "\n",
    "ALWAYS | HAVE | FUN\n",
    "--- | --- | ---\n",
    " ~~O~~ | X | \n",
    " X | ~~O~~ |  \n",
    " X  | X  | ~~O~~ \n",
    "\n",
    "\n"
   ]
  },
  {
   "cell_type": "code",
   "execution_count": null,
   "metadata": {},
   "outputs": [],
   "source": []
  }
 ],
 "metadata": {
  "kernelspec": {
   "display_name": "Python",
   "language": "python",
   "name": "conda-env-python-py"
  },
  "language_info": {
   "codemirror_mode": {
    "name": "ipython",
    "version": 3
   },
   "file_extension": ".py",
   "mimetype": "text/x-python",
   "name": "python",
   "nbconvert_exporter": "python",
   "pygments_lexer": "ipython3",
   "version": "3.7.12"
  }
 },
 "nbformat": 4,
 "nbformat_minor": 4
}
